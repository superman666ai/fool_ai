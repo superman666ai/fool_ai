{
 "cells": [
  {
   "cell_type": "code",
   "execution_count": 62,
   "metadata": {},
   "outputs": [],
   "source": [
    "import pandas as pd"
   ]
  },
  {
   "cell_type": "code",
   "execution_count": 109,
   "metadata": {},
   "outputs": [],
   "source": [
    "data = pd.read_csv(\"data/20181107.csv\")"
   ]
  },
  {
   "cell_type": "code",
   "execution_count": 110,
   "metadata": {},
   "outputs": [],
   "source": [
    "new_data = []\n",
    "all = list(data.drop([\"id\"], axis=1).values)\n",
    "for i in all:\n",
    "    new_data.append(sorted(list(i)))"
   ]
  },
  {
   "cell_type": "code",
   "execution_count": 111,
   "metadata": {},
   "outputs": [
    {
     "name": "stdout",
     "output_type": "stream",
     "text": [
      "[[2, 4, 6, 8, 10], [1, 3, 4, 5, 6], [1, 3, 4, 5, 10], [1, 5, 8, 9, 10], [1, 7, 8, 9, 11], [3, 4, 9, 10, 11], [1, 5, 6, 8, 11], [2, 5, 7, 10, 11], [2, 3, 4, 5, 9], [3, 4, 5, 6, 10], [2, 3, 4, 5, 8], [4, 7, 8, 9, 10], [1, 3, 4, 7, 9], [4, 5, 6, 7, 8], [1, 3, 6, 8, 10], [2, 3, 8, 9, 10], [1, 2, 6, 8, 9], [1, 5, 7, 9, 10], [1, 2, 3, 6, 7], [1, 3, 6, 9, 10], [1, 2, 5, 9, 10], [2, 5, 7, 9, 10], [2, 4, 6, 8, 11], [1, 3, 5, 6, 10], [5, 7, 9, 10, 11], [1, 3, 7, 9, 11], [1, 3, 4, 6, 9], [1, 2, 3, 5, 10], [4, 5, 8, 9, 11], [1, 2, 7, 9, 11], [3, 4, 6, 10, 11], [2, 3, 4, 5, 6], [3, 6, 8, 10, 11], [1, 2, 5, 10, 11], [1, 3, 4, 8, 11], [2, 6, 7, 8, 10], [2, 3, 5, 8, 11], [2, 3, 6, 7, 9], [2, 3, 5, 7, 10], [2, 4, 8, 10, 11], [1, 2, 4, 5, 10], [1, 4, 7, 8, 9], [1, 2, 6, 7, 11], [1, 2, 4, 6, 7], [1, 4, 5, 7, 9], [2, 3, 5, 6, 10], [2, 4, 8, 9, 10], [4, 5, 6, 9, 11], [1, 2, 5, 9, 11], [1, 2, 7, 8, 10], [2, 4, 6, 7, 9], [1, 3, 6, 9, 11], [2, 4, 7, 8, 9], [2, 3, 4, 7, 10], [6, 7, 8, 9, 10], [3, 6, 9, 10, 11], [2, 7, 9, 10, 11], [3, 4, 5, 8, 9], [1, 5, 7, 8, 11], [2, 6, 9, 10, 11], [1, 3, 5, 6, 10], [4, 5, 6, 9, 11], [2, 3, 4, 6, 8], [4, 5, 7, 8, 11], [2, 5, 6, 8, 11], [1, 2, 7, 9, 10], [1, 3, 4, 5, 9], [6, 8, 9, 10, 11], [3, 4, 6, 8, 11], [2, 3, 4, 6, 8], [1, 2, 3, 7, 9], [2, 4, 6, 7, 10], [2, 3, 5, 7, 11], [3, 5, 6, 7, 11], [2, 4, 5, 6, 9], [1, 2, 5, 10, 11], [2, 3, 8, 9, 10], [1, 2, 4, 5, 9], [1, 4, 6, 7, 9], [4, 5, 6, 8, 10], [4, 6, 7, 9, 10], [2, 3, 4, 7, 11], [2, 4, 7, 9, 10], [2, 4, 5, 6, 9], [2, 3, 6, 9, 11], [1, 4, 7, 9, 10], [1, 3, 5, 10, 11]]\n"
     ]
    }
   ],
   "source": [
    "print(new_data)"
   ]
  },
  {
   "cell_type": "code",
   "execution_count": 112,
   "metadata": {},
   "outputs": [
    {
     "name": "stdout",
     "output_type": "stream",
     "text": [
      "          a  b  c  d   e\n",
      "id                      \n",
      "18110701  2  4  6  8  10\n",
      "18110702  1  3  4  5   6\n",
      "18110703  1  3  4  5  10\n",
      "18110704  1  5  8  9  10\n",
      "18110705  1  7  8  9  11\n"
     ]
    }
   ],
   "source": [
    "data_csv = pd.DataFrame(data=new_data, index=data[\"id\"], columns=[\"a\", \"b\", \"c\", \"d\", \"e\"])\n",
    "print(data_csv.head())"
   ]
  },
  {
   "cell_type": "code",
   "execution_count": 113,
   "metadata": {},
   "outputs": [],
   "source": [
    "data_csv[\"ids\"]=data_csv[\"a\"].map(str)+data_csv[\"b\"].map(str)+data_csv[\"c\"].map(str)+data_csv[\"d\"].map(str)+data_csv[\"e\"].map(str)"
   ]
  },
  {
   "cell_type": "code",
   "execution_count": 114,
   "metadata": {},
   "outputs": [],
   "source": [
    "group_data = data_csv.groupby([\"ids\"],as_index=False)['ids'].agg({'cnt':'count'} )"
   ]
  },
  {
   "cell_type": "code",
   "execution_count": 116,
   "metadata": {},
   "outputs": [
    {
     "name": "stdout",
     "output_type": "stream",
     "text": [
      "        ids  cnt\n",
      "21   135610    2\n",
      "38    23468    2\n",
      "6   1251011    2\n",
      "47   238910    2\n",
      "48    24569    2\n",
      "73   456911    2\n",
      "53    24789    1\n",
      "59   257910    1\n",
      "58  2571011    1\n",
      "57   256811    1\n",
      "56   248910    1\n",
      "55  2481011    1\n",
      "54   247910    1\n",
      "50    24679    1\n",
      "52   246811    1\n",
      "51   246810    1\n",
      "61  2691011    1\n",
      "49   246710    1\n",
      "46   236911    1\n",
      "45    23679    1\n",
      "44   235811    1\n",
      "60   267810    1\n",
      "0    123510    1\n",
      "42   235710    1\n",
      "71    45678    1\n",
      "79   678910    1\n",
      "78  5791011    1\n",
      "77   478910    1\n",
      "76   467910    1\n",
      "75   458911    1\n",
      "..      ...  ...\n",
      "12   127910    1\n",
      "10    12689    1\n",
      "1     12367    1\n",
      "9    126711    1\n",
      "8    125911    1\n",
      "7    125910    1\n",
      "5     12467    1\n",
      "4     12459    1\n",
      "3    124510    1\n",
      "2     12379    1\n",
      "19   134811    1\n",
      "20  1351011    1\n",
      "22   136810    1\n",
      "23   136910    1\n",
      "39   234710    1\n",
      "37    23459    1\n",
      "36    23458    1\n",
      "35    23456    1\n",
      "34   178911    1\n",
      "33   158910    1\n",
      "32   157910    1\n",
      "31   157811    1\n",
      "30   156811    1\n",
      "29   147910    1\n",
      "28    14789    1\n",
      "27    14679    1\n",
      "26    14579    1\n",
      "25   137911    1\n",
      "24   136911    1\n",
      "80  6891011    1\n",
      "\n",
      "[81 rows x 2 columns]\n"
     ]
    }
   ],
   "source": [
    "data_end = group_data.sort_values(by=[\"cnt\"], ascending=False)\n",
    "print(data_end)"
   ]
  },
  {
   "cell_type": "code",
   "execution_count": 94,
   "metadata": {},
   "outputs": [],
   "source": [
    "from itertools import  combinations"
   ]
  },
  {
   "cell_type": "code",
   "execution_count": 107,
   "metadata": {},
   "outputs": [],
   "source": [
    "all_data = combinations([x for x in range(1, 13)], 5)"
   ]
  },
  {
   "cell_type": "code",
   "execution_count": 108,
   "metadata": {},
   "outputs": [
    {
     "name": "stdout",
     "output_type": "stream",
     "text": [
      "792\n"
     ]
    }
   ],
   "source": [
    "print(len(list(all_data)))"
   ]
  },
  {
   "cell_type": "code",
   "execution_count": null,
   "metadata": {},
   "outputs": [],
   "source": []
  }
 ],
 "metadata": {
  "kernelspec": {
   "display_name": "Python 3",
   "language": "python",
   "name": "python3"
  },
  "language_info": {
   "codemirror_mode": {
    "name": "ipython",
    "version": 3
   },
   "file_extension": ".py",
   "mimetype": "text/x-python",
   "name": "python",
   "nbconvert_exporter": "python",
   "pygments_lexer": "ipython3",
   "version": "3.6.6"
  }
 },
 "nbformat": 4,
 "nbformat_minor": 2
}
